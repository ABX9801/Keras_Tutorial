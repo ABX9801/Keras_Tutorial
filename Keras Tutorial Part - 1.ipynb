{
 "cells": [
  {
   "cell_type": "markdown",
   "metadata": {},
   "source": [
    "# 1. Preprocessing Data"
   ]
  },
  {
   "cell_type": "code",
   "execution_count": 1,
   "metadata": {},
   "outputs": [],
   "source": [
    "import numpy as np\n",
    "from random import randint\n",
    "from sklearn.preprocessing import MinMaxScaler"
   ]
  },
  {
   "cell_type": "markdown",
   "metadata": {},
   "source": [
    "The below lists will hold the raw data"
   ]
  },
  {
   "cell_type": "code",
   "execution_count": 2,
   "metadata": {},
   "outputs": [],
   "source": [
    "train_labels  = []\n",
    "train_samples = []"
   ]
  },
  {
   "cell_type": "markdown",
   "metadata": {},
   "source": [
    "### Generating Dummy Data\n",
    "\n",
    "- An experimental Drug was tested on individuals from 13 to 100 years of age\n",
    "- The trial had 2100 participants\n",
    "    - Half of the participants were below 65 years of age\n",
    "    \n",
    "##### Outcome of Drug Trial\n",
    "- 95% of patients 65 yrs or older experienced side effects from drug\n",
    "- 95% of patients under 65 yrs did not experience side effects\n",
    "\n",
    "\n",
    "Ultimately we want the model to tell uss whether or not a patient should experience side-effects,  given the patients age. \n",
    "The judgement will be based on training data"
   ]
  },
  {
   "cell_type": "code",
   "execution_count": 3,
   "metadata": {},
   "outputs": [],
   "source": [
    "for i in range(50):\n",
    "    \n",
    "    #the 5% younger individuals who experienced side effects\n",
    "    random_younger = randint(13,64)\n",
    "    train_samples.append(random_younger)\n",
    "    train_labels.append(1)\n",
    "    \n",
    "    #the 5% older individuals who didn't experience side effects\n",
    "    random_older = randint(65,100)\n",
    "    train_samples.append(random_older)\n",
    "    train_labels.append(0)\n",
    "    \n",
    "for i in range(1000):\n",
    "    \n",
    "    #the 95% younger individuals who did not experienced side effects\n",
    "    random_younger = randint(13,64)\n",
    "    train_samples.append(random_younger)\n",
    "    train_labels.append(0)\n",
    "    \n",
    "    #the 95% older individuals who did experience side effects\n",
    "    random_older = randint(65,100)\n",
    "    train_samples.append(random_older)\n",
    "    train_labels.append(1)"
   ]
  },
  {
   "cell_type": "markdown",
   "metadata": {},
   "source": [
    "- train_samples : age of 2100 individuals\n",
    "- train_labels  : corresponding outcoms\n",
    "     - 0 if no side effects shown\n",
    "     - 1 if side effects shown"
   ]
  },
  {
   "cell_type": "code",
   "execution_count": 4,
   "metadata": {},
   "outputs": [
    {
     "name": "stdout",
     "output_type": "stream",
     "text": [
      "Age----Outcome\n",
      "60 ---- 1\n",
      "73 ---- 0\n",
      "42 ---- 1\n",
      "97 ---- 0\n",
      "63 ---- 1\n",
      "95 ---- 0\n",
      "51 ---- 1\n",
      "80 ---- 0\n",
      "31 ---- 1\n",
      "72 ---- 0\n"
     ]
    }
   ],
   "source": [
    "print('Age----Outcome')\n",
    "for i in range(10):\n",
    "    print(train_samples[i],'----',train_labels[i])"
   ]
  },
  {
   "cell_type": "markdown",
   "metadata": {},
   "source": [
    "We better convert the data into a numpy array as API's take input in format of numpy array"
   ]
  },
  {
   "cell_type": "code",
   "execution_count": 5,
   "metadata": {},
   "outputs": [],
   "source": [
    "train_labels  = np.array(train_labels)\n",
    "train_samples = np.array(train_samples)"
   ]
  },
  {
   "cell_type": "markdown",
   "metadata": {},
   "source": [
    "We will use Scikit Learn's MinMaxScaler to scale all the ages fro 13-100 in range of 0 to 1"
   ]
  },
  {
   "cell_type": "code",
   "execution_count": 6,
   "metadata": {},
   "outputs": [],
   "source": [
    "scaler = MinMaxScaler(feature_range=(0,1))\n",
    "scaled_train_samples = scaler.fit_transform(train_samples.reshape(-1,1))"
   ]
  },
  {
   "cell_type": "markdown",
   "metadata": {},
   "source": [
    "We reshape data as a Technical Formality as fit_transform does not accept 1D data by default"
   ]
  },
  {
   "cell_type": "markdown",
   "metadata": {},
   "source": [
    "### Scaled Data"
   ]
  },
  {
   "cell_type": "code",
   "execution_count": 7,
   "metadata": {},
   "outputs": [
    {
     "name": "stdout",
     "output_type": "stream",
     "text": [
      "Age(scaled)    Outcome\n",
      "[0.54022989] ---- 1\n",
      "[0.68965517] ---- 0\n",
      "[0.33333333] ---- 1\n",
      "[0.96551724] ---- 0\n",
      "[0.57471264] ---- 1\n",
      "[0.94252874] ---- 0\n",
      "[0.43678161] ---- 1\n",
      "[0.77011494] ---- 0\n",
      "[0.20689655] ---- 1\n",
      "[0.67816092] ---- 0\n"
     ]
    }
   ],
   "source": [
    "print('Age(scaled)    Outcome')\n",
    "for i in range(10):\n",
    "    print(scaled_train_samples[i],'----',train_labels[i])"
   ]
  },
  {
   "cell_type": "markdown",
   "metadata": {},
   "source": [
    "# 2. Creating an Artifitial Neural Network"
   ]
  },
  {
   "cell_type": "markdown",
   "metadata": {},
   "source": [
    "### Importing Required Libraries"
   ]
  },
  {
   "cell_type": "code",
   "execution_count": 8,
   "metadata": {},
   "outputs": [
    {
     "name": "stderr",
     "output_type": "stream",
     "text": [
      "Using TensorFlow backend.\n"
     ]
    }
   ],
   "source": [
    "import keras\n",
    "from keras.models import Sequential\n",
    "from keras.layers import Activation\n",
    "from keras.layers.core import Dense"
   ]
  },
  {
   "cell_type": "markdown",
   "metadata": {},
   "source": [
    "### Creating Model"
   ]
  },
  {
   "cell_type": "code",
   "execution_count": 9,
   "metadata": {},
   "outputs": [
    {
     "name": "stdout",
     "output_type": "stream",
     "text": [
      "WARNING:tensorflow:From c:\\users\\abx9801\\appdata\\local\\programs\\python\\python37\\lib\\site-packages\\tensorflow_core\\python\\ops\\resource_variable_ops.py:1630: calling BaseResourceVariable.__init__ (from tensorflow.python.ops.resource_variable_ops) with constraint is deprecated and will be removed in a future version.\n",
      "Instructions for updating:\n",
      "If using Keras pass *_constraint arguments to layers.\n"
     ]
    }
   ],
   "source": [
    "model = Sequential([Dense(units = 16,input_shape=(1,),activation='relu'),\n",
    "                    Dense(units = 32 , activation = 'relu'),\n",
    "                    Dense(units = 2  , activation = 'softmax')])"
   ]
  },
  {
   "cell_type": "markdown",
   "metadata": {},
   "source": [
    "- model is an instance of Sequential Object\n",
    "- A Keras Sequential Model is a **linear stack of layers**.\n",
    "- It accepts a list and each element in the list should be a layer"
   ]
  },
  {
   "cell_type": "markdown",
   "metadata": {},
   "source": [
    "**We will be Using the Data we Generated Above**\n",
    "\n",
    "- input_shape = (1,) it shows that for each training examples it expects a tuple of integers that matches the shape (1,)"
   ]
  },
  {
   "cell_type": "code",
   "execution_count": 10,
   "metadata": {},
   "outputs": [
    {
     "name": "stdout",
     "output_type": "stream",
     "text": [
      "Model: \"sequential_1\"\n",
      "_________________________________________________________________\n",
      "Layer (type)                 Output Shape              Param #   \n",
      "=================================================================\n",
      "dense_1 (Dense)              (None, 16)                32        \n",
      "_________________________________________________________________\n",
      "dense_2 (Dense)              (None, 32)                544       \n",
      "_________________________________________________________________\n",
      "dense_3 (Dense)              (None, 2)                 66        \n",
      "=================================================================\n",
      "Total params: 642\n",
      "Trainable params: 642\n",
      "Non-trainable params: 0\n",
      "_________________________________________________________________\n"
     ]
    }
   ],
   "source": [
    "model.summary()"
   ]
  },
  {
   "cell_type": "markdown",
   "metadata": {},
   "source": [
    "- We are using Softmax activation for the last layer.\n",
    "- None will actually be replaced by the no. of training Examples."
   ]
  },
  {
   "cell_type": "markdown",
   "metadata": {},
   "source": [
    "#### Compiling the Model"
   ]
  },
  {
   "cell_type": "code",
   "execution_count": 11,
   "metadata": {},
   "outputs": [],
   "source": [
    "opt = keras.optimizers.Adam(learning_rate=0.0001)\n",
    "model.compile(optimizer = opt, loss = 'sparse_categorical_crossentropy',metrics = ['accuracy'])"
   ]
  },
  {
   "cell_type": "markdown",
   "metadata": {},
   "source": [
    "If we don't intend to add learning_rate we could simply go with\n",
    "```python\n",
    "model.compile(optimizer = 'adam', loss = 'sparse_categorical_crossentropy',metrics = ['accuracy'])\n",
    "```"
   ]
  },
  {
   "cell_type": "markdown",
   "metadata": {},
   "source": [
    "- Optimizer     - Adam\n",
    "- Learning_rate - 0.0001\n",
    "- loss          - sparse_categorical_cross_entropy\n",
    "- metrics       - Accuracy"
   ]
  },
  {
   "cell_type": "markdown",
   "metadata": {},
   "source": [
    "#### Training the Model"
   ]
  },
  {
   "cell_type": "code",
   "execution_count": 12,
   "metadata": {},
   "outputs": [
    {
     "name": "stdout",
     "output_type": "stream",
     "text": [
      "WARNING:tensorflow:From c:\\users\\abx9801\\appdata\\local\\programs\\python\\python37\\lib\\site-packages\\keras\\backend\\tensorflow_backend.py:422: The name tf.global_variables is deprecated. Please use tf.compat.v1.global_variables instead.\n",
      "\n",
      "Epoch 1/20\n",
      "2100/2100 [==============================] - 0s 110us/step - loss: 0.6847 - accuracy: 0.5043\n",
      "Epoch 2/20\n",
      "2100/2100 [==============================] - 0s 71us/step - loss: 0.6622 - accuracy: 0.5986\n",
      "Epoch 3/20\n",
      "2100/2100 [==============================] - 0s 69us/step - loss: 0.6393 - accuracy: 0.6348\n",
      "Epoch 4/20\n",
      "2100/2100 [==============================] - 0s 70us/step - loss: 0.6114 - accuracy: 0.6895\n",
      "Epoch 5/20\n",
      "2100/2100 [==============================] - 0s 72us/step - loss: 0.5800 - accuracy: 0.7424\n",
      "Epoch 6/20\n",
      "2100/2100 [==============================] - 0s 70us/step - loss: 0.5423 - accuracy: 0.7967\n",
      "Epoch 7/20\n",
      "2100/2100 [==============================] - 0s 68us/step - loss: 0.5094 - accuracy: 0.8219\n",
      "Epoch 8/20\n",
      "2100/2100 [==============================] - 0s 62us/step - loss: 0.4784 - accuracy: 0.8457\n",
      "Epoch 9/20\n",
      "2100/2100 [==============================] - 0s 69us/step - loss: 0.4500 - accuracy: 0.8652\n",
      "Epoch 10/20\n",
      "2100/2100 [==============================] - 0s 71us/step - loss: 0.4245 - accuracy: 0.8743\n",
      "Epoch 11/20\n",
      "2100/2100 [==============================] - 0s 68us/step - loss: 0.4018 - accuracy: 0.8810\n",
      "Epoch 12/20\n",
      "2100/2100 [==============================] - 0s 69us/step - loss: 0.3821 - accuracy: 0.8948\n",
      "Epoch 13/20\n",
      "2100/2100 [==============================] - 0s 59us/step - loss: 0.3654 - accuracy: 0.9024\n",
      "Epoch 14/20\n",
      "2100/2100 [==============================] - 0s 75us/step - loss: 0.3514 - accuracy: 0.9081\n",
      "Epoch 15/20\n",
      "2100/2100 [==============================] - 0s 70us/step - loss: 0.3395 - accuracy: 0.9100\n",
      "Epoch 16/20\n",
      "2100/2100 [==============================] - 0s 72us/step - loss: 0.3295 - accuracy: 0.9129\n",
      "Epoch 17/20\n",
      "2100/2100 [==============================] - 0s 62us/step - loss: 0.3211 - accuracy: 0.9181\n",
      "Epoch 18/20\n",
      "2100/2100 [==============================] - 0s 63us/step - loss: 0.3139 - accuracy: 0.9190\n",
      "Epoch 19/20\n",
      "2100/2100 [==============================] - 0s 63us/step - loss: 0.3079 - accuracy: 0.9305\n",
      "Epoch 20/20\n",
      "2100/2100 [==============================] - 0s 68us/step - loss: 0.3031 - accuracy: 0.9257\n"
     ]
    },
    {
     "data": {
      "text/plain": [
       "<keras.callbacks.callbacks.History at 0x1cf7cc3b048>"
      ]
     },
     "execution_count": 12,
     "metadata": {},
     "output_type": "execute_result"
    }
   ],
   "source": [
    "model.fit(x=scaled_train_samples,y = train_labels,batch_size=10,epochs=20,shuffle=True)"
   ]
  },
  {
   "cell_type": "markdown",
   "metadata": {},
   "source": [
    "- x  =  training_features of shape (m,input_shape)   here(2100,1)\n",
    "- y  =  training_labels   of shape (m,1)             here(2100,1)\n",
    "- batch_size ; we need to specify\n",
    "- epochs\n",
    "- shuffle = True (it;s better to shuffle our dataset for better prediction)\n",
    "- verbose = 2 Specifies how much output to the console we want. It ranges from 0-2 so we're getting the most verbose\n",
    "     - verbose = 0 ; no output\n",
    "     - verbose = 1 ; all outputs along with training of all epochs (as loading bar) default\n",
    "     - verbose = 2 ; only loss and accuracy"
   ]
  },
  {
   "cell_type": "markdown",
   "metadata": {},
   "source": [
    "# 3. Creating A Validation Set\n",
    "\n",
    "- It's better to choose a portion of training set and place it in a validation set(dev set)\n",
    "- Then the Algorithm will not only see the loss and accuracy for training set during each epoch but also for validation set\n",
    "- The Validation set accuracy tells us how much the model is genralizing on non trained data"
   ]
  },
  {
   "cell_type": "code",
   "execution_count": 13,
   "metadata": {},
   "outputs": [
    {
     "name": "stdout",
     "output_type": "stream",
     "text": [
      "Train on 1890 samples, validate on 210 samples\n",
      "Epoch 1/20\n",
      " - 0s - loss: 0.3084 - accuracy: 0.9265 - val_loss: 0.2113 - val_accuracy: 0.9905\n",
      "Epoch 2/20\n",
      " - 0s - loss: 0.3055 - accuracy: 0.9275 - val_loss: 0.2061 - val_accuracy: 0.9905\n",
      "Epoch 3/20\n",
      " - 0s - loss: 0.3029 - accuracy: 0.9296 - val_loss: 0.1999 - val_accuracy: 0.9905\n",
      "Epoch 4/20\n",
      " - 0s - loss: 0.3007 - accuracy: 0.9275 - val_loss: 0.1968 - val_accuracy: 0.9905\n",
      "Epoch 5/20\n",
      " - 0s - loss: 0.2985 - accuracy: 0.9312 - val_loss: 0.1912 - val_accuracy: 0.9905\n",
      "Epoch 6/20\n",
      " - 0s - loss: 0.2968 - accuracy: 0.9254 - val_loss: 0.1886 - val_accuracy: 0.9905\n",
      "Epoch 7/20\n",
      " - 0s - loss: 0.2950 - accuracy: 0.9296 - val_loss: 0.1849 - val_accuracy: 0.9905\n",
      "Epoch 8/20\n",
      " - 0s - loss: 0.2938 - accuracy: 0.9302 - val_loss: 0.1812 - val_accuracy: 0.9905\n",
      "Epoch 9/20\n",
      " - 0s - loss: 0.2921 - accuracy: 0.9302 - val_loss: 0.1778 - val_accuracy: 0.9905\n",
      "Epoch 10/20\n",
      " - 0s - loss: 0.2908 - accuracy: 0.9302 - val_loss: 0.1759 - val_accuracy: 0.9905\n",
      "Epoch 11/20\n",
      " - 0s - loss: 0.2895 - accuracy: 0.9302 - val_loss: 0.1727 - val_accuracy: 0.9905\n",
      "Epoch 12/20\n",
      " - 0s - loss: 0.2883 - accuracy: 0.9296 - val_loss: 0.1709 - val_accuracy: 1.0000\n",
      "Epoch 13/20\n",
      " - 0s - loss: 0.2874 - accuracy: 0.9312 - val_loss: 0.1688 - val_accuracy: 1.0000\n",
      "Epoch 14/20\n",
      " - 0s - loss: 0.2862 - accuracy: 0.9312 - val_loss: 0.1667 - val_accuracy: 1.0000\n",
      "Epoch 15/20\n",
      " - 0s - loss: 0.2851 - accuracy: 0.9333 - val_loss: 0.1631 - val_accuracy: 0.9905\n",
      "Epoch 16/20\n",
      " - 0s - loss: 0.2844 - accuracy: 0.9317 - val_loss: 0.1621 - val_accuracy: 0.9905\n",
      "Epoch 17/20\n",
      " - 0s - loss: 0.2835 - accuracy: 0.9333 - val_loss: 0.1605 - val_accuracy: 1.0000\n",
      "Epoch 18/20\n",
      " - 0s - loss: 0.2825 - accuracy: 0.9312 - val_loss: 0.1601 - val_accuracy: 1.0000\n",
      "Epoch 19/20\n",
      " - 0s - loss: 0.2817 - accuracy: 0.9312 - val_loss: 0.1581 - val_accuracy: 1.0000\n",
      "Epoch 20/20\n",
      " - 0s - loss: 0.2807 - accuracy: 0.9328 - val_loss: 0.1568 - val_accuracy: 1.0000\n"
     ]
    },
    {
     "data": {
      "text/plain": [
       "<keras.callbacks.callbacks.History at 0x1cf7cd75358>"
      ]
     },
     "execution_count": 13,
     "metadata": {},
     "output_type": "execute_result"
    }
   ],
   "source": [
    "model.fit(x = scaled_train_samples,y=train_labels,validation_split=(0.1),batch_size=10,epochs=20,shuffle=True,verbose=2)"
   ]
  },
  {
   "cell_type": "markdown",
   "metadata": {},
   "source": [
    "**Thus we can surely say that our model is not overfitting the training set**"
   ]
  },
  {
   "cell_type": "markdown",
   "metadata": {},
   "source": [
    "# 4. Making Predictions"
   ]
  },
  {
   "cell_type": "markdown",
   "metadata": {},
   "source": [
    "### CREATING A TEST SET"
   ]
  },
  {
   "cell_type": "code",
   "execution_count": 14,
   "metadata": {},
   "outputs": [],
   "source": [
    "test_labels  = []\n",
    "test_samples = []\n",
    "for i in range(10):\n",
    "    \n",
    "    #the 5% younger individuals who experienced side effects\n",
    "    random_younger = randint(13,64)\n",
    "    test_samples.append(random_younger)\n",
    "    test_labels.append(1)\n",
    "    \n",
    "    #the 5% older individuals who didn't experience side effects\n",
    "    random_older = randint(65,100)\n",
    "    test_samples.append(random_older)\n",
    "    test_labels.append(0)\n",
    "    \n",
    "for i in range(200):\n",
    "    \n",
    "    #the 95% younger individuals who did not experienced side effects\n",
    "    random_younger = randint(13,64)\n",
    "    test_samples.append(random_younger)\n",
    "    test_labels.append(0)\n",
    "    \n",
    "    #the 95% older individuals who did experience side effects\n",
    "    random_older = randint(65,100)\n",
    "    test_samples.append(random_older)\n",
    "    test_labels.append(1)\n",
    "\n",
    "test_labels  = np.array(test_labels)\n",
    "test_samples = np.array(test_samples)\n",
    "scaler = MinMaxScaler(feature_range=(0,1))\n",
    "scaled_test_samples = scaler.fit_transform(test_samples.reshape(-1,1))"
   ]
  },
  {
   "cell_type": "markdown",
   "metadata": {},
   "source": [
    "### PREDICTING"
   ]
  },
  {
   "cell_type": "code",
   "execution_count": 15,
   "metadata": {},
   "outputs": [],
   "source": [
    "predictions = model.predict(x = scaled_test_samples,batch_size =10,verbose = 0)"
   ]
  },
  {
   "cell_type": "markdown",
   "metadata": {},
   "source": [
    "To see what the predictions look like\n",
    "```python\n",
    "[probability that output=0 probability that output=1]\n",
    "```"
   ]
  },
  {
   "cell_type": "code",
   "execution_count": 16,
   "metadata": {},
   "outputs": [
    {
     "name": "stdout",
     "output_type": "stream",
     "text": [
      "[0.5143032  0.48569682]\n",
      "[0.3712358  0.62876415]\n",
      "[0.85932195 0.14067805]\n",
      "[0.04807662 0.95192343]\n",
      "[0.9442332  0.05576685]\n",
      "[0.02790662 0.9720934 ]\n",
      "[0.91325295 0.08674703]\n",
      "[0.08905273 0.91094726]\n",
      "[0.9442332  0.05576685]\n",
      "[0.03018125 0.9698187 ]\n"
     ]
    }
   ],
   "source": [
    "for i in range(10):\n",
    "    print(predictions[i])"
   ]
  },
  {
   "cell_type": "markdown",
   "metadata": {},
   "source": [
    "What if we like to get the classes , rather than probability"
   ]
  },
  {
   "cell_type": "code",
   "execution_count": 17,
   "metadata": {},
   "outputs": [],
   "source": [
    "rounded_predictions = model.predict_classes(x = scaled_test_samples,batch_size=10,verbose=0)"
   ]
  },
  {
   "cell_type": "code",
   "execution_count": 18,
   "metadata": {},
   "outputs": [
    {
     "name": "stdout",
     "output_type": "stream",
     "text": [
      "0\n",
      "1\n",
      "0\n",
      "1\n",
      "0\n",
      "1\n",
      "0\n",
      "1\n",
      "0\n",
      "1\n"
     ]
    }
   ],
   "source": [
    "for i in range(10):\n",
    "    print(rounded_predictions[i])"
   ]
  },
  {
   "cell_type": "markdown",
   "metadata": {},
   "source": [
    "# 5. Creating a confusion Matrix"
   ]
  },
  {
   "cell_type": "code",
   "execution_count": 19,
   "metadata": {},
   "outputs": [],
   "source": [
    "from sklearn.metrics import confusion_matrix\n",
    "import itertools\n",
    "import matplotlib.pyplot as plt"
   ]
  },
  {
   "cell_type": "code",
   "execution_count": 20,
   "metadata": {},
   "outputs": [],
   "source": [
    "Conf_Mat = confusion_matrix(y_true = test_labels,y_pred = rounded_predictions)"
   ]
  },
  {
   "cell_type": "code",
   "execution_count": 21,
   "metadata": {},
   "outputs": [
    {
     "name": "stdout",
     "output_type": "stream",
     "text": [
      "[[196  14]\n",
      " [ 10 200]]\n"
     ]
    }
   ],
   "source": [
    "print(Conf_Mat)"
   ]
  },
  {
   "cell_type": "markdown",
   "metadata": {},
   "source": [
    "**Plotting a Confusion Matrix**"
   ]
  },
  {
   "cell_type": "code",
   "execution_count": 22,
   "metadata": {},
   "outputs": [
    {
     "name": "stdout",
     "output_type": "stream",
     "text": [
      "Non-Normalized Confusion Matrix\n",
      "[[196  14]\n",
      " [ 10 200]]\n"
     ]
    },
    {
     "data": {
      "image/png": "[encoded data removed]",
      "text/plain": [
       "<Figure size 432x288 with 2 Axes>"
      ]
     },
     "metadata": {
      "needs_background": "light"
     },
     "output_type": "display_data"
    }
   ],
   "source": [
    "def plot_confusion_matrix(cm,classes,normalize=False,title='Confusion_Matrix',cmap = plt.cm.Blues):\n",
    "    plt.imshow(cm,interpolation='nearest',cmap=cmap)\n",
    "    plt.title(title)\n",
    "    plt.colorbar()\n",
    "    tick_marks = np.arange(len(classes))\n",
    "    plt.xticks(tick_marks,classes,rotation=45)\n",
    "    plt.yticks(tick_marks,classes)\n",
    "    \n",
    "    if normalize:\n",
    "        cm = cm.astype('float')/cm.sum(axis=1)[:,np.newaxis]\n",
    "        print('Normalized Confusion Matrix')\n",
    "    else:\n",
    "        print('Non-Normalized Confusion Matrix')\n",
    "    print(cm)\n",
    "    \n",
    "    thresh = cm.max()/2.\n",
    "    for i,j in itertools.product(range(cm.shape[0]),range(cm.shape[1])):\n",
    "        plt.text(j,i,cm[i,j],\n",
    "                 horizontalalignment = 'center',\n",
    "                 color ='white' if cm[i,j]>thresh else 'black')\n",
    "    plt.tight_layout\n",
    "    plt.ylabel('True label')\n",
    "    plt.xlabel('Predicted label')\n",
    "\n",
    "cm_plot_labels = ['no side effects','had side effects']\n",
    "plot_confusion_matrix(Conf_Mat,cm_plot_labels,title='Confusion Matrix')"
   ]
  },
  {
   "cell_type": "markdown",
   "metadata": {},
   "source": [
    "No Need To understand the code;  This is only for visualization"
   ]
  },
  {
   "cell_type": "markdown",
   "metadata": {},
   "source": [
    "# 6. SAVING AND LOADING KERAS MODEL"
   ]
  },
  {
   "cell_type": "markdown",
   "metadata": {},
   "source": [
    "**SAVING MODEL**"
   ]
  },
  {
   "cell_type": "code",
   "execution_count": 23,
   "metadata": {},
   "outputs": [],
   "source": [
    "model.save('models\\sample_model.h5')"
   ]
  },
  {
   "cell_type": "markdown",
   "metadata": {},
   "source": [
    "**LOAD MODEL**"
   ]
  },
  {
   "cell_type": "code",
   "execution_count": 24,
   "metadata": {},
   "outputs": [],
   "source": [
    "from keras.models import load_model\n",
    "new_model = load_model('models\\sample_model.h5')"
   ]
  },
  {
   "cell_type": "code",
   "execution_count": 25,
   "metadata": {},
   "outputs": [
    {
     "name": "stdout",
     "output_type": "stream",
     "text": [
      "Model: \"sequential_1\"\n",
      "_________________________________________________________________\n",
      "Layer (type)                 Output Shape              Param #   \n",
      "=================================================================\n",
      "dense_1 (Dense)              (None, 16)                32        \n",
      "_________________________________________________________________\n",
      "dense_2 (Dense)              (None, 32)                544       \n",
      "_________________________________________________________________\n",
      "dense_3 (Dense)              (None, 2)                 66        \n",
      "=================================================================\n",
      "Total params: 642\n",
      "Trainable params: 642\n",
      "Non-trainable params: 0\n",
      "_________________________________________________________________\n"
     ]
    }
   ],
   "source": [
    "new_model.summary()"
   ]
  },
  {
   "cell_type": "code",
   "execution_count": 26,
   "metadata": {},
   "outputs": [
    {
     "data": {
      "text/plain": [
       "[array([[-0.34687272,  0.30845928, -0.3969993 , -0.55214304, -0.254238  ,\n",
       "         -0.01571646, -0.12906495, -0.4995945 ,  0.7594511 , -0.06320071,\n",
       "          0.05709985, -0.3574348 ,  0.4437953 , -0.08498788,  0.6748649 ,\n",
       "          0.7137057 ]], dtype=float32),\n",
       " array([ 0.        , -0.12202524,  0.        ,  0.        ,  0.        ,\n",
       "         0.21410346,  0.        ,  0.        , -0.16646951,  0.        ,\n",
       "         0.28890216,  0.        , -0.15318805,  0.        , -0.10981902,\n",
       "        -0.1851406 ], dtype=float32),\n",
       " array([[-0.06673953, -0.20418209,  0.18660524, -0.32157195, -0.33403307,\n",
       "          0.14769772,  0.02868193,  0.05865443,  0.20736596, -0.01938435,\n",
       "          0.25312182,  0.1835449 ,  0.03315306, -0.31128523,  0.06927812,\n",
       "         -0.07678843, -0.2784091 ,  0.22742185,  0.33352336, -0.17648984,\n",
       "          0.27509937,  0.29734626,  0.32465997, -0.20539221,  0.04949102,\n",
       "          0.30281046, -0.10646319,  0.30252913,  0.12003455,  0.19411305,\n",
       "         -0.2651546 , -0.2784171 ],\n",
       "        [ 0.10794823, -0.07307152,  0.32996067, -0.00691047,  0.0239563 ,\n",
       "          0.21240029, -0.33758244, -0.00347922, -0.5284411 ,  0.12073579,\n",
       "          0.26205817,  0.05341446,  0.46536452, -0.5445754 , -0.1457796 ,\n",
       "          0.14417468,  0.24870959,  0.12106677,  0.17981449,  0.06685233,\n",
       "          0.6654134 ,  0.27580324,  0.12691167, -0.03037241, -0.06930816,\n",
       "          0.43888852, -0.31988505, -0.2730879 , -0.08571015,  0.625849  ,\n",
       "          0.41406348,  0.17815772],\n",
       "        [-0.18686639,  0.10060596, -0.12597878, -0.20580482, -0.12723215,\n",
       "         -0.2077064 , -0.14437336, -0.30293703,  0.2965426 ,  0.21355596,\n",
       "         -0.20880021, -0.07769367,  0.04130223, -0.01764622, -0.09511903,\n",
       "          0.28301153,  0.19387475,  0.24992701,  0.08593541, -0.32737294,\n",
       "          0.04971239,  0.17277041, -0.00372434, -0.14561711, -0.25933522,\n",
       "          0.22453651, -0.14460061,  0.03467092,  0.251456  ,  0.14063948,\n",
       "          0.15234587,  0.03658497],\n",
       "        [-0.23247325,  0.10002232, -0.08635652,  0.15056399, -0.04133031,\n",
       "          0.24415377, -0.19741566,  0.06896818, -0.18035184,  0.17560652,\n",
       "          0.10347539,  0.13579327, -0.11789747, -0.32866162, -0.13261414,\n",
       "          0.16168937, -0.22020987,  0.3495812 , -0.14516193,  0.3422095 ,\n",
       "         -0.11920005,  0.137898  ,  0.29417655,  0.10108727, -0.07303053,\n",
       "         -0.07064402,  0.32618734, -0.03462043, -0.18728104, -0.04930255,\n",
       "         -0.19023511,  0.01305616],\n",
       "        [-0.17736675,  0.05662596, -0.06496674, -0.05038419,  0.08530456,\n",
       "          0.0658102 , -0.12085365, -0.20260824, -0.24003828,  0.1383858 ,\n",
       "          0.19806972,  0.3364701 , -0.0010643 , -0.03798711,  0.16906658,\n",
       "         -0.11077203, -0.06697911, -0.17519955,  0.14225692, -0.11563325,\n",
       "          0.12444749,  0.11817309, -0.08021539,  0.1651763 ,  0.23899886,\n",
       "          0.33022138, -0.29958308, -0.135594  , -0.2227654 , -0.34544224,\n",
       "          0.04624277,  0.0412336 ],\n",
       "        [-0.07580008,  0.38392398, -0.01286128, -0.02566438, -0.05353585,\n",
       "          0.16092715, -0.16251032,  0.21564336,  0.18805762,  0.17137301,\n",
       "         -0.1169699 , -0.25644717,  0.25225508,  0.31817883,  0.17564847,\n",
       "         -0.32169643,  0.06550743,  0.18753335,  0.15103164,  0.16655716,\n",
       "          0.25141257, -0.22153534, -0.30179352, -0.2919298 ,  0.27377006,\n",
       "          0.14602934, -0.00303921, -0.27220312,  0.55242306,  0.3109648 ,\n",
       "         -0.19901447, -0.24876317],\n",
       "        [-0.34615114, -0.2801109 ,  0.13637784,  0.32156578,  0.3233542 ,\n",
       "         -0.18222813,  0.20312563, -0.12913752,  0.1171298 ,  0.03021228,\n",
       "         -0.20775177,  0.24613556,  0.16465381,  0.21464732,  0.04213244,\n",
       "         -0.15465862, -0.21618341,  0.186393  ,  0.2671965 , -0.24855986,\n",
       "         -0.03881094,  0.19768754, -0.30480433,  0.22034809, -0.2781815 ,\n",
       "          0.35038713,  0.10375476,  0.10912308, -0.17659496, -0.03320995,\n",
       "         -0.20131753, -0.17074446],\n",
       "        [-0.20248644,  0.13254485, -0.28858906, -0.02761748, -0.18650562,\n",
       "          0.34802702,  0.07289535,  0.21039996,  0.21278241,  0.11642924,\n",
       "         -0.22141653, -0.07929894,  0.08308223, -0.07928321, -0.12217182,\n",
       "          0.03278771, -0.19401695,  0.2505007 , -0.1567035 , -0.2701344 ,\n",
       "          0.00896734,  0.10204315,  0.1712412 , -0.24779591,  0.10319772,\n",
       "         -0.2139288 ,  0.302686  , -0.1368315 ,  0.09551284, -0.01345992,\n",
       "         -0.07558018, -0.34930843],\n",
       "        [-0.0205028 , -0.58510095, -0.2156092 ,  0.01133797,  0.1371507 ,\n",
       "          0.54705995, -0.15051264,  0.3860852 , -0.42993024,  0.07788195,\n",
       "         -0.2732392 , -0.06103583,  0.39319372, -0.42754757, -0.21222112,\n",
       "          0.33717707, -0.07232833,  0.32287166, -0.00734341,  0.4172029 ,\n",
       "          0.07195485,  0.04150389,  0.54838777,  0.2596641 , -0.24785237,\n",
       "          0.39012432, -0.17722547, -0.1234346 , -0.21485981,  0.2953239 ,\n",
       "          0.3685981 , -0.12076617],\n",
       "        [-0.19599995, -0.289064  , -0.23875776, -0.11182435, -0.27810025,\n",
       "          0.15549138, -0.18462528, -0.0887455 , -0.09281605, -0.17775004,\n",
       "         -0.01496279, -0.06424916, -0.30974343,  0.2831501 ,  0.11225593,\n",
       "         -0.14228709,  0.24178949,  0.1136097 ,  0.03869012, -0.22327167,\n",
       "          0.03025588,  0.3026549 ,  0.13801879,  0.16434625, -0.34447142,\n",
       "          0.3478062 ,  0.02175164,  0.20157042,  0.23603514, -0.22246987,\n",
       "         -0.34162146,  0.33741114],\n",
       "        [ 0.08603473,  0.33955404, -0.22667055,  0.0448778 ,  0.21720947,\n",
       "          0.00966458,  0.09301102,  0.07656465,  0.4250369 , -0.34730753,\n",
       "         -0.2948816 ,  0.23763853, -0.20432992,  0.36507675,  0.4777283 ,\n",
       "          0.32795504, -0.02841776, -0.26618803, -0.31620917, -0.09093116,\n",
       "          0.20724441,  0.18576546,  0.06659552, -0.33951968,  0.2925619 ,\n",
       "         -0.00941318, -0.12302133,  0.22059682,  0.536931  ,  0.11254665,\n",
       "          0.337652  , -0.22830468],\n",
       "        [-0.1961806 , -0.3342546 ,  0.13529778,  0.34647897, -0.10305521,\n",
       "          0.15298244, -0.23396507,  0.15444204, -0.22664374,  0.3105153 ,\n",
       "         -0.28424138, -0.09699321,  0.130568  ,  0.12867162,  0.33873615,\n",
       "         -0.20555447,  0.089324  ,  0.2930725 , -0.30887774,  0.17472634,\n",
       "          0.11402637, -0.20823678,  0.04067945,  0.18480828,  0.22703573,\n",
       "          0.1826078 ,  0.30615088,  0.01511943, -0.04489601,  0.14314318,\n",
       "         -0.2999281 , -0.29872733],\n",
       "        [ 0.5485804 , -0.35750362,  0.02602795,  0.326873  , -0.24300705,\n",
       "          0.01755428,  0.07433152,  0.10147855, -0.4310687 , -0.2110484 ,\n",
       "         -0.22485739,  0.27651295,  0.13938558, -0.49248636, -0.5013152 ,\n",
       "          0.29974592,  0.1212125 ,  0.66099596, -0.24383646,  0.42646238,\n",
       "          0.6160133 ,  0.2138374 ,  0.35604286, -0.20832942, -0.08912183,\n",
       "         -0.15192227, -0.12428549, -0.29175675, -0.56214213,  0.3504184 ,\n",
       "          0.3493618 , -0.17296202],\n",
       "        [-0.02491763,  0.30972013, -0.2467687 ,  0.13793162,  0.08274984,\n",
       "         -0.31857866, -0.03522396, -0.286387  , -0.27719265, -0.0977886 ,\n",
       "         -0.2637461 , -0.31202853, -0.14162925,  0.2528359 ,  0.30267736,\n",
       "         -0.26277083,  0.08604541,  0.00443873,  0.18054655, -0.35223538,\n",
       "         -0.15368721, -0.35294688,  0.27400854,  0.01681837,  0.07505697,\n",
       "          0.04754087,  0.2544422 , -0.03239939,  0.21214303, -0.08925927,\n",
       "         -0.08645085, -0.1125835 ],\n",
       "        [ 0.5512832 ,  0.07521552, -0.32255   , -0.23591177, -0.3128949 ,\n",
       "          0.00375556, -0.19439003,  0.24276279,  0.05225899,  0.3414108 ,\n",
       "          0.00993189, -0.09267589,  0.35881203, -0.04326604, -0.27222034,\n",
       "          0.08133066,  0.17859317,  0.41788647, -0.34905884,  0.16023013,\n",
       "          0.42002654, -0.07633421,  0.34368905, -0.30398643, -0.49212322,\n",
       "          0.10571922,  0.07493609,  0.04049267, -0.30626923,  0.2165849 ,\n",
       "          0.20776908, -0.18142189],\n",
       "        [ 0.4100803 , -0.30322936, -0.22548766, -0.3241547 ,  0.11332695,\n",
       "          0.26133004, -0.27445048,  0.45450917, -0.36117315, -0.29852754,\n",
       "         -0.2510214 , -0.03724761,  0.18655646, -0.12117611, -0.39052874,\n",
       "          0.25434428, -0.28353173,  0.17831372, -0.34814864,  0.45550826,\n",
       "          0.06311408, -0.1829193 , -0.00707788,  0.01456343, -0.24556643,\n",
       "          0.23871532, -0.07979661, -0.2567897 , -0.49229875,  0.25718415,\n",
       "          0.16635345,  0.01570027]], dtype=float32),\n",
       " array([-0.14524014,  0.19174466,  0.        , -0.00815136,  0.13300882,\n",
       "        -0.13062124,  0.        , -0.1613822 ,  0.24138772, -0.00225657,\n",
       "         0.        , -0.01666736, -0.12353579,  0.19274257,  0.24865818,\n",
       "        -0.1261724 , -0.01620655, -0.10448875,  0.        , -0.12177088,\n",
       "        -0.19613607, -0.02042433, -0.0993641 , -0.00062417,  0.23709491,\n",
       "        -0.12471776,  0.        , -0.01356323,  0.23713592, -0.18371557,\n",
       "        -0.15897132,  0.00492771], dtype=float32),\n",
       " array([[-0.66076404, -0.05122764],\n",
       "        [ 0.6453599 , -0.43856186],\n",
       "        [ 0.12978813,  0.17378381],\n",
       "        [-0.37999478, -0.16767389],\n",
       "        [ 0.26152778, -0.1512375 ],\n",
       "        [-0.53100693,  0.2037736 ],\n",
       "        [ 0.18228605,  0.10819295],\n",
       "        [-0.12764381,  0.44239017],\n",
       "        [ 0.56665915, -0.7079589 ],\n",
       "        [-0.13666022, -0.19008207],\n",
       "        [ 0.0669719 ,  0.05615318],\n",
       "        [-0.23216039, -0.1145964 ],\n",
       "        [-0.22185628,  0.402345  ],\n",
       "        [ 0.82464296, -0.63161725],\n",
       "        [ 0.67975634, -0.4722585 ],\n",
       "        [-0.4172129 ,  0.6846155 ],\n",
       "        [-0.30733863, -0.12824354],\n",
       "        [-0.6647157 , -0.0195907 ],\n",
       "        [-0.0650433 ,  0.22575524],\n",
       "        [-0.47301474,  0.44016287],\n",
       "        [-0.03943575,  0.5154028 ],\n",
       "        [-0.04298825, -0.3927365 ],\n",
       "        [-0.4756402 ,  0.6547502 ],\n",
       "        [-0.07922454,  0.27041984],\n",
       "        [ 0.71741664, -0.18240961],\n",
       "        [-0.07206012,  0.20913151],\n",
       "        [ 0.068385  , -0.25403306],\n",
       "        [-0.34111702,  0.00565522],\n",
       "        [ 0.15845504, -0.73160017],\n",
       "        [-0.42153355,  0.10741675],\n",
       "        [-0.05544755,  0.59780514],\n",
       "        [ 0.39705813,  0.07575122]], dtype=float32),\n",
       " array([ 0.13910142, -0.13910146], dtype=float32)]"
      ]
     },
     "execution_count": 26,
     "metadata": {},
     "output_type": "execute_result"
    }
   ],
   "source": [
    "new_model.get_weights()"
   ]
  },
  {
   "cell_type": "code",
   "execution_count": 27,
   "metadata": {},
   "outputs": [
    {
     "data": {
      "text/plain": [
       "<keras.optimizers.Adam at 0x1cf7e955208>"
      ]
     },
     "execution_count": 27,
     "metadata": {},
     "output_type": "execute_result"
    }
   ],
   "source": [
    "new_model.optimizer"
   ]
  },
  {
   "cell_type": "code",
   "execution_count": 28,
   "metadata": {},
   "outputs": [
    {
     "data": {
      "text/plain": [
       "'sparse_categorical_crossentropy'"
      ]
     },
     "execution_count": 28,
     "metadata": {},
     "output_type": "execute_result"
    }
   ],
   "source": [
    "new_model.loss"
   ]
  },
  {
   "cell_type": "markdown",
   "metadata": {},
   "source": [
    "## Saving and Loading Only the Architecture of the model"
   ]
  },
  {
   "cell_type": "markdown",
   "metadata": {},
   "source": [
    "**SAVING**"
   ]
  },
  {
   "cell_type": "code",
   "execution_count": 29,
   "metadata": {},
   "outputs": [
    {
     "data": {
      "text/plain": [
       "'{\"class_name\": \"Sequential\", \"config\": {\"name\": \"sequential_1\", \"layers\": [{\"class_name\": \"Dense\", \"config\": {\"name\": \"dense_1\", \"trainable\": true, \"batch_input_shape\": [null, 1], \"dtype\": \"float32\", \"units\": 16, \"activation\": \"relu\", \"use_bias\": true, \"kernel_initializer\": {\"class_name\": \"VarianceScaling\", \"config\": {\"scale\": 1.0, \"mode\": \"fan_avg\", \"distribution\": \"uniform\", \"seed\": null}}, \"bias_initializer\": {\"class_name\": \"Zeros\", \"config\": {}}, \"kernel_regularizer\": null, \"bias_regularizer\": null, \"activity_regularizer\": null, \"kernel_constraint\": null, \"bias_constraint\": null}}, {\"class_name\": \"Dense\", \"config\": {\"name\": \"dense_2\", \"trainable\": true, \"dtype\": \"float32\", \"units\": 32, \"activation\": \"relu\", \"use_bias\": true, \"kernel_initializer\": {\"class_name\": \"VarianceScaling\", \"config\": {\"scale\": 1.0, \"mode\": \"fan_avg\", \"distribution\": \"uniform\", \"seed\": null}}, \"bias_initializer\": {\"class_name\": \"Zeros\", \"config\": {}}, \"kernel_regularizer\": null, \"bias_regularizer\": null, \"activity_regularizer\": null, \"kernel_constraint\": null, \"bias_constraint\": null}}, {\"class_name\": \"Dense\", \"config\": {\"name\": \"dense_3\", \"trainable\": true, \"dtype\": \"float32\", \"units\": 2, \"activation\": \"softmax\", \"use_bias\": true, \"kernel_initializer\": {\"class_name\": \"VarianceScaling\", \"config\": {\"scale\": 1.0, \"mode\": \"fan_avg\", \"distribution\": \"uniform\", \"seed\": null}}, \"bias_initializer\": {\"class_name\": \"Zeros\", \"config\": {}}, \"kernel_regularizer\": null, \"bias_regularizer\": null, \"activity_regularizer\": null, \"kernel_constraint\": null, \"bias_constraint\": null}}]}, \"keras_version\": \"2.3.1\", \"backend\": \"tensorflow\"}'"
      ]
     },
     "execution_count": 29,
     "metadata": {},
     "output_type": "execute_result"
    }
   ],
   "source": [
    "json_string = new_model.to_json()\n",
    "json_string"
   ]
  },
  {
   "cell_type": "markdown",
   "metadata": {},
   "source": [
    "**LOADING**"
   ]
  },
  {
   "cell_type": "code",
   "execution_count": 30,
   "metadata": {},
   "outputs": [],
   "source": [
    "from keras.models import model_from_json\n",
    "model_architecture = model_from_json(json_string)"
   ]
  },
  {
   "cell_type": "code",
   "execution_count": 31,
   "metadata": {},
   "outputs": [
    {
     "name": "stdout",
     "output_type": "stream",
     "text": [
      "Model: \"sequential_1\"\n",
      "_________________________________________________________________\n",
      "Layer (type)                 Output Shape              Param #   \n",
      "=================================================================\n",
      "dense_1 (Dense)              (None, 16)                32        \n",
      "_________________________________________________________________\n",
      "dense_2 (Dense)              (None, 32)                544       \n",
      "_________________________________________________________________\n",
      "dense_3 (Dense)              (None, 2)                 66        \n",
      "=================================================================\n",
      "Total params: 642\n",
      "Trainable params: 642\n",
      "Non-trainable params: 0\n",
      "_________________________________________________________________\n"
     ]
    }
   ],
   "source": [
    "model_architecture.summary()"
   ]
  },
  {
   "cell_type": "code",
   "execution_count": 32,
   "metadata": {},
   "outputs": [
    {
     "data": {
      "text/plain": [
       "[array([[-0.13110942,  0.0085699 ,  0.1239354 , -0.09515139, -0.1820401 ,\n",
       "         -0.4022593 ,  0.36903667,  0.09360141,  0.08736026, -0.317356  ,\n",
       "         -0.32382703,  0.5236151 , -0.35098386,  0.12323189,  0.137469  ,\n",
       "          0.17732751]], dtype=float32),\n",
       " array([0., 0., 0., 0., 0., 0., 0., 0., 0., 0., 0., 0., 0., 0., 0., 0.],\n",
       "       dtype=float32),\n",
       " array([[ 2.62307554e-01,  1.94277078e-01,  1.80569917e-01,\n",
       "          1.25467122e-01, -2.93858767e-01,  9.11292434e-02,\n",
       "         -5.87364435e-02, -1.34905905e-01, -1.42448753e-01,\n",
       "          1.00317329e-01,  9.82806087e-03,  1.68537050e-01,\n",
       "          1.01944208e-01, -2.89865285e-01,  1.51156694e-01,\n",
       "         -1.80504754e-01,  2.05088645e-01,  1.01770967e-01,\n",
       "          1.33700013e-01, -4.98862863e-02, -5.93250990e-03,\n",
       "         -2.49223590e-01,  6.41834140e-02,  1.65000945e-01,\n",
       "         -3.39709073e-01,  2.02361614e-01,  1.95204288e-01,\n",
       "         -1.18461475e-01,  1.54902130e-01, -2.92859495e-01,\n",
       "         -1.56361938e-01,  3.18429381e-01],\n",
       "        [-3.40654522e-01,  2.83193439e-01, -1.69223309e-01,\n",
       "         -1.27844796e-01,  2.41196781e-01,  2.04800457e-01,\n",
       "         -1.79033995e-01, -9.39059556e-02, -2.22629517e-01,\n",
       "         -1.34275228e-01, -1.99424893e-01,  2.10930973e-01,\n",
       "          2.40904719e-01, -2.01655924e-02,  1.71667486e-01,\n",
       "         -1.98484927e-01,  1.77719206e-01,  1.26982719e-01,\n",
       "         -3.51598024e-01,  2.90555805e-01,  1.08223677e-01,\n",
       "         -2.37488151e-02, -1.50805712e-02, -3.30924898e-01,\n",
       "          9.55989063e-02,  4.47648764e-03, -1.46005273e-01,\n",
       "         -1.52373582e-01, -2.40582973e-01, -2.49859661e-01,\n",
       "          4.95829880e-02,  1.98351055e-01],\n",
       "        [-1.37595296e-01,  1.47277117e-03, -3.36011291e-01,\n",
       "         -2.29949489e-01,  2.82637626e-01, -5.00049591e-02,\n",
       "         -2.95923471e-01, -1.19845271e-02,  2.33436078e-01,\n",
       "          1.38413697e-01,  3.23293716e-01, -3.44630718e-01,\n",
       "          1.54070407e-01,  2.93774933e-01,  2.09094971e-01,\n",
       "          2.49129504e-01,  1.74971968e-01,  1.35724992e-01,\n",
       "         -3.31308186e-01,  3.44643861e-01,  1.00864053e-01,\n",
       "          3.00247461e-01,  1.38893336e-01, -2.68032372e-01,\n",
       "          1.68146521e-01, -7.04348981e-02, -2.88233608e-01,\n",
       "         -1.21065050e-01,  4.90897894e-02, -6.22036159e-02,\n",
       "         -3.03642839e-01, -2.07387358e-01],\n",
       "        [-2.37177089e-01, -6.91081882e-02,  3.52174073e-01,\n",
       "          6.19384050e-02, -2.61052847e-01, -1.75438866e-01,\n",
       "         -3.52281034e-02, -3.00690949e-01,  1.93901271e-01,\n",
       "          1.60708815e-01, -1.83350161e-01,  1.45476848e-01,\n",
       "         -2.16680065e-01,  1.17707729e-01,  5.32847345e-02,\n",
       "          2.97078997e-01, -2.87982076e-01,  9.30013061e-02,\n",
       "          2.45514899e-01,  3.37022215e-01,  2.46802598e-01,\n",
       "         -2.57099271e-02, -3.35199177e-01, -2.58854628e-01,\n",
       "          1.03274345e-01,  1.46258324e-01,  3.45950991e-01,\n",
       "         -2.03712583e-02, -1.06889129e-01,  9.34696496e-02,\n",
       "          3.25861245e-01,  1.53666049e-01],\n",
       "        [-1.27393991e-01, -3.19249034e-02,  4.75224257e-02,\n",
       "          2.81304389e-01, -1.70315579e-01, -3.31128806e-01,\n",
       "          6.03547096e-02, -8.90133083e-02, -3.36593240e-01,\n",
       "         -2.10233793e-01, -1.65900946e-01,  6.39408827e-03,\n",
       "         -1.19474262e-01, -9.49627161e-03,  2.67978579e-01,\n",
       "          2.47615606e-01, -5.67058921e-02, -1.63960084e-01,\n",
       "         -2.38149077e-01,  1.09862745e-01,  1.13578171e-01,\n",
       "          3.48814815e-01,  3.25614303e-01, -1.44883990e-03,\n",
       "          2.00075239e-01,  2.70889908e-01,  5.16658723e-02,\n",
       "          1.05253160e-01,  3.23658317e-01,  1.55783087e-01,\n",
       "          3.39932054e-01, -1.95898294e-01],\n",
       "        [-1.92371190e-01,  2.55292505e-01, -3.28810245e-01,\n",
       "         -5.38428426e-02,  7.08108246e-02,  2.17688233e-01,\n",
       "          1.97606534e-01,  1.64387792e-01, -1.08523414e-01,\n",
       "          2.20305115e-01,  2.08415240e-01,  5.86196780e-02,\n",
       "         -1.53055772e-01, -2.70505220e-01,  1.54492110e-01,\n",
       "         -1.36025414e-01,  2.13839680e-01,  1.40270859e-01,\n",
       "          4.23994660e-02, -3.49495739e-01, -2.45703131e-01,\n",
       "          3.29753906e-01, -3.09718460e-01, -2.64688373e-01,\n",
       "          2.09439427e-01, -3.05457681e-01,  7.59998560e-02,\n",
       "         -5.86448908e-02, -3.37861687e-01,  1.90911204e-01,\n",
       "          2.74823993e-01, -7.69919157e-02],\n",
       "        [ 6.01068139e-02,  2.78400749e-01,  3.15078527e-01,\n",
       "          4.38099504e-02,  1.62325829e-01, -3.11760813e-01,\n",
       "          2.42817193e-01,  5.19503653e-02,  3.23510379e-01,\n",
       "          3.41455609e-01,  3.05634886e-01, -1.40856370e-01,\n",
       "          2.60413259e-01, -2.59274185e-01,  2.54858345e-01,\n",
       "          5.40412068e-02, -9.73517895e-02, -2.08771542e-01,\n",
       "          3.35605413e-01,  2.29665637e-02, -3.05524766e-01,\n",
       "         -1.22336194e-01, -8.18952024e-02, -1.84105098e-01,\n",
       "          1.04332149e-01,  1.38380408e-01, -2.05659762e-01,\n",
       "          2.89353102e-01,  1.54285520e-01, -4.19716835e-02,\n",
       "         -1.74877897e-01,  2.23642737e-01],\n",
       "        [-1.09025970e-01,  1.94720030e-02,  2.13692337e-01,\n",
       "          2.01629847e-01, -1.36691630e-02, -1.34339452e-01,\n",
       "          2.04979450e-01,  2.84892350e-01,  7.88039863e-02,\n",
       "         -1.78229839e-01, -1.45503983e-01, -1.04389727e-01,\n",
       "          9.72141623e-02,  7.48475790e-02,  3.47773641e-01,\n",
       "         -1.73480719e-01,  2.28557199e-01, -2.97600627e-02,\n",
       "         -1.87962800e-01,  1.24184847e-01,  1.02532476e-01,\n",
       "         -8.53306651e-02,  1.51640385e-01,  1.16039544e-01,\n",
       "         -2.94266343e-01,  2.85350591e-01, -8.29780102e-03,\n",
       "          1.06294692e-01,  3.40765864e-01, -3.22517872e-01,\n",
       "          7.39718378e-02,  9.11284089e-02],\n",
       "        [-2.82645613e-01,  1.28049970e-01, -3.02293122e-01,\n",
       "         -3.09976816e-01,  1.79940850e-01,  1.27638608e-01,\n",
       "         -1.95267797e-03,  1.98005646e-01, -1.63398698e-01,\n",
       "         -2.81065017e-01,  2.65195101e-01,  2.89827198e-01,\n",
       "         -7.08535612e-02, -2.13828832e-01,  1.10932112e-01,\n",
       "         -1.14601329e-01, -1.62380680e-01, -1.40756056e-01,\n",
       "          9.06942785e-02,  3.08026522e-01, -2.86936074e-01,\n",
       "         -3.01546633e-01, -2.20374167e-02, -2.74833858e-01,\n",
       "          1.51045054e-01,  1.07430369e-01,  9.96766984e-02,\n",
       "         -1.05297238e-01, -3.10138941e-01,  1.28304362e-01,\n",
       "          1.80589229e-01, -8.47750008e-02],\n",
       "        [-2.16344744e-01,  9.66754258e-02, -2.79695094e-01,\n",
       "         -1.53361842e-01, -2.48608157e-01,  4.61025834e-02,\n",
       "         -3.29591990e-01,  2.73703903e-01, -1.76098213e-01,\n",
       "          2.67643958e-01,  2.06138819e-01,  8.66169930e-02,\n",
       "          1.38862997e-01, -2.18796089e-01, -1.09554067e-01,\n",
       "         -2.27866516e-01, -8.20546150e-02, -5.66934049e-02,\n",
       "          3.39824408e-01,  2.50927001e-01,  2.50196844e-01,\n",
       "         -1.29862726e-02,  5.89539111e-02,  1.33791864e-02,\n",
       "          2.87117451e-01, -3.24979246e-01, -1.77625194e-01,\n",
       "          5.62663078e-02,  2.26843029e-01, -1.69556439e-01,\n",
       "          1.66564614e-01, -3.30378085e-01],\n",
       "        [ 5.10582328e-03, -2.62464345e-01,  2.06751853e-01,\n",
       "          3.29891711e-01, -1.70939013e-01, -2.53637373e-01,\n",
       "         -1.58123672e-01,  3.48792881e-01,  1.94558293e-01,\n",
       "          1.36932582e-01, -6.39398992e-02,  3.02322775e-01,\n",
       "          3.49752754e-01,  1.80559903e-01, -1.55936480e-02,\n",
       "         -2.27062702e-02,  2.81723142e-02,  2.16400534e-01,\n",
       "          2.91349679e-01,  6.38426244e-02, -2.73756415e-01,\n",
       "          1.94888681e-01, -1.60494775e-01,  1.45854652e-01,\n",
       "          1.77203119e-02,  7.27054179e-02,  1.65588588e-01,\n",
       "         -3.40521932e-01,  3.01690429e-01, -1.19571030e-01,\n",
       "          2.85123914e-01, -4.50808704e-02],\n",
       "        [-1.83471635e-01,  2.62647122e-01, -1.98287427e-01,\n",
       "          3.23366314e-01,  1.75121427e-03, -2.12000668e-01,\n",
       "         -2.89199948e-02,  2.41154164e-01, -2.49772936e-01,\n",
       "          2.67083973e-01,  4.72597778e-02, -1.73990443e-01,\n",
       "          2.54599065e-01,  2.21492618e-01, -4.13527191e-02,\n",
       "          2.87787944e-01,  8.81360471e-02, -3.51289928e-01,\n",
       "          2.21089989e-01,  1.64316088e-01,  2.10110635e-01,\n",
       "         -1.08000964e-01,  2.00023860e-01, -6.47923350e-03,\n",
       "          6.81507885e-02, -3.12871307e-01, -2.72714794e-01,\n",
       "         -3.24330926e-02,  9.92242992e-02, -2.84855276e-01,\n",
       "         -2.04185456e-01,  1.14070266e-01],\n",
       "        [-2.11414576e-01,  1.43554538e-01,  2.46884435e-01,\n",
       "          2.42576689e-01, -2.62343466e-01, -2.95299858e-01,\n",
       "          2.13285297e-01, -6.40399456e-02,  2.08231241e-01,\n",
       "         -2.03857899e-01,  1.44299418e-01, -4.96727228e-03,\n",
       "          2.56606936e-02,  2.74131387e-01, -2.47539982e-01,\n",
       "          3.34279239e-02,  4.30748463e-02, -2.19545633e-01,\n",
       "         -2.60691077e-01, -2.57681280e-01,  5.03253639e-02,\n",
       "         -1.82439044e-01,  3.47094864e-01,  2.60237426e-01,\n",
       "         -1.70978010e-02, -3.18061680e-01,  2.70899445e-01,\n",
       "         -2.69456506e-01,  1.15512788e-01,  1.27405971e-01,\n",
       "          2.06873715e-02, -1.99063271e-01],\n",
       "        [-2.75104612e-01,  1.06586099e-01, -9.04323757e-02,\n",
       "         -2.55872488e-01,  1.21423304e-01,  3.01282197e-01,\n",
       "          1.10365748e-01,  3.00991803e-01, -2.36557022e-01,\n",
       "          3.46831292e-01,  1.62176102e-01,  9.15389061e-02,\n",
       "         -3.18932354e-01,  8.96178484e-02, -1.16293103e-01,\n",
       "          2.85612494e-01, -4.37921286e-03, -1.20373249e-01,\n",
       "         -3.09453964e-01,  2.33212322e-01,  1.99547142e-01,\n",
       "          1.80236250e-01, -8.76965523e-02,  2.53421754e-01,\n",
       "         -8.67393017e-02,  2.46832520e-01, -3.41196507e-01,\n",
       "         -3.23119640e-01, -1.45638093e-01,  4.66673374e-02,\n",
       "          1.69605017e-04,  3.00487369e-01],\n",
       "        [ 3.00311297e-01,  6.19558692e-02, -1.41941473e-01,\n",
       "          2.05959976e-02, -2.13404745e-01, -3.01786363e-01,\n",
       "         -1.80305392e-01, -3.50528330e-01, -3.27274919e-01,\n",
       "         -3.16663176e-01,  5.68157434e-03, -2.93927550e-01,\n",
       "         -2.61662632e-01,  1.34309530e-01,  7.43368268e-03,\n",
       "          2.22050160e-01,  3.45423251e-01,  2.63613969e-01,\n",
       "         -7.01770186e-02,  2.18111128e-01,  3.42483848e-01,\n",
       "          2.80695707e-01, -2.78555155e-02,  5.44027388e-02,\n",
       "         -1.59830153e-02,  2.97280282e-01, -3.62805128e-02,\n",
       "          2.52612263e-01, -3.52259874e-02, -2.77725458e-01,\n",
       "         -3.35277915e-01,  2.06350982e-02],\n",
       "        [ 3.44348252e-02, -1.19324729e-01, -2.25832164e-01,\n",
       "          7.63098896e-02, -2.33255997e-01, -3.23496193e-01,\n",
       "         -1.42999962e-01,  2.79735714e-01, -1.24368772e-01,\n",
       "          9.72819924e-02, -2.04023361e-01,  3.49563271e-01,\n",
       "         -1.36481524e-02,  2.86564618e-01,  3.25383693e-01,\n",
       "         -4.37914133e-02, -2.21991912e-01, -4.24748659e-03,\n",
       "         -1.39237002e-01,  1.01229548e-03,  1.22879058e-01,\n",
       "          3.09897363e-02,  1.15336865e-01, -1.48190856e-02,\n",
       "          2.49831408e-01, -1.09656155e-01,  3.28705043e-01,\n",
       "         -4.31452096e-02, -6.05402291e-02,  2.38392651e-02,\n",
       "         -3.13903242e-01, -4.63742018e-03]], dtype=float32),\n",
       " array([0., 0., 0., 0., 0., 0., 0., 0., 0., 0., 0., 0., 0., 0., 0., 0., 0.,\n",
       "        0., 0., 0., 0., 0., 0., 0., 0., 0., 0., 0., 0., 0., 0., 0.],\n",
       "       dtype=float32),\n",
       " array([[-0.00827348, -0.01789555],\n",
       "        [ 0.15226713, -0.21964966],\n",
       "        [-0.24731341, -0.40001512],\n",
       "        [ 0.38022503,  0.18700817],\n",
       "        [-0.09058174, -0.25981596],\n",
       "        [-0.4169652 ,  0.32749143],\n",
       "        [ 0.21558717, -0.2908246 ],\n",
       "        [ 0.2563775 , -0.14090303],\n",
       "        [-0.2515428 , -0.2802722 ],\n",
       "        [ 0.19634548, -0.28189582],\n",
       "        [-0.12281469,  0.12074015],\n",
       "        [ 0.00345066,  0.0305942 ],\n",
       "        [-0.1903035 , -0.06072488],\n",
       "        [-0.04566094, -0.17657223],\n",
       "        [ 0.20868447, -0.2934649 ],\n",
       "        [ 0.1775141 , -0.06297579],\n",
       "        [ 0.08386478, -0.29406506],\n",
       "        [-0.07193932, -0.04688594],\n",
       "        [-0.05145496,  0.15846595],\n",
       "        [ 0.14219162,  0.03736052],\n",
       "        [-0.40822887,  0.18308547],\n",
       "        [ 0.27979413,  0.15469512],\n",
       "        [ 0.31200895, -0.16129357],\n",
       "        [-0.13404357,  0.33875075],\n",
       "        [-0.09074008, -0.31039307],\n",
       "        [-0.1341976 ,  0.3379368 ],\n",
       "        [-0.22296733, -0.16064104],\n",
       "        [ 0.1626831 ,  0.08231649],\n",
       "        [ 0.01169991,  0.11069825],\n",
       "        [-0.07694691, -0.11087582],\n",
       "        [ 0.00420684, -0.38964057],\n",
       "        [ 0.20567563,  0.29267457]], dtype=float32),\n",
       " array([0., 0.], dtype=float32)]"
      ]
     },
     "execution_count": 32,
     "metadata": {},
     "output_type": "execute_result"
    }
   ],
   "source": [
    "model_architecture.get_weights()"
   ]
  },
  {
   "cell_type": "markdown",
   "metadata": {},
   "source": [
    "**Randomly Initialized Weights**"
   ]
  },
  {
   "cell_type": "markdown",
   "metadata": {},
   "source": [
    "## Saving and Loading only Weights of the Model"
   ]
  },
  {
   "cell_type": "markdown",
   "metadata": {},
   "source": [
    "**SAVING**"
   ]
  },
  {
   "cell_type": "code",
   "execution_count": 33,
   "metadata": {},
   "outputs": [],
   "source": [
    "model.save_weights('models\\sample_model_weights.h5')"
   ]
  },
  {
   "cell_type": "markdown",
   "metadata": {},
   "source": [
    "Create a New Model"
   ]
  },
  {
   "cell_type": "code",
   "execution_count": 34,
   "metadata": {},
   "outputs": [
    {
     "data": {
      "text/plain": [
       "[array([[ 0.34707612,  0.52167404, -0.32849258, -0.08935243, -0.22649777,\n",
       "          0.2652259 , -0.10639688, -0.515274  ,  0.45806122, -0.26650986,\n",
       "         -0.35966268, -0.06603295, -0.538849  ,  0.50924075,  0.57557666,\n",
       "         -0.56731135]], dtype=float32),\n",
       " array([0., 0., 0., 0., 0., 0., 0., 0., 0., 0., 0., 0., 0., 0., 0., 0.],\n",
       "       dtype=float32),\n",
       " array([[-7.40865767e-02,  3.53431076e-01, -2.40964741e-01,\n",
       "          1.15026325e-01, -1.86121240e-01,  2.47474223e-01,\n",
       "          1.01707757e-01, -2.70058870e-01,  7.86955059e-02,\n",
       "         -1.36306524e-01,  2.72623032e-01, -2.12802812e-01,\n",
       "          1.33836567e-01,  4.45987880e-02, -2.02320039e-01,\n",
       "          1.76316947e-01, -2.91654170e-01, -1.69571266e-01,\n",
       "          1.48599595e-01,  4.05868292e-02,  1.85098052e-02,\n",
       "         -1.33728236e-01, -1.76123589e-01,  2.50255913e-01,\n",
       "          2.06741065e-01, -7.63506889e-02,  2.20138997e-01,\n",
       "         -2.29567647e-01,  8.47482979e-02,  7.60348439e-02,\n",
       "         -3.17201644e-01, -9.70552564e-02],\n",
       "        [ 1.96740717e-01, -7.52254725e-02,  6.99150562e-02,\n",
       "          2.49875456e-01,  1.27458394e-01, -2.58460224e-01,\n",
       "          1.65166050e-01, -3.32163513e-01,  2.52460271e-01,\n",
       "         -1.39390528e-02,  2.37921745e-01, -1.80973679e-01,\n",
       "          2.82328933e-01, -1.18452117e-01,  3.00923795e-01,\n",
       "          2.29509622e-01, -3.00518245e-01,  1.80077285e-01,\n",
       "         -2.03270793e-01,  1.35024428e-01,  1.77083939e-01,\n",
       "          1.99625403e-01, -2.91650623e-01, -3.26731622e-01,\n",
       "          2.43360013e-01, -2.76929140e-02,  2.35438257e-01,\n",
       "          9.62219238e-02,  3.47381085e-01,  3.36421043e-01,\n",
       "         -4.69837189e-02, -3.43066245e-01],\n",
       "        [-2.67327011e-01,  2.80274957e-01, -3.22454393e-01,\n",
       "         -5.25052845e-02, -3.12687457e-01,  2.79656798e-01,\n",
       "         -1.09697968e-01, -9.17045474e-02,  8.24919045e-02,\n",
       "          3.42330784e-01,  2.60564178e-01, -3.44458520e-02,\n",
       "         -1.09082028e-01, -2.63175786e-01,  3.10145646e-01,\n",
       "          2.66685456e-01,  2.24195868e-01, -3.90228629e-03,\n",
       "         -2.10639745e-01, -1.17415130e-01,  1.94293827e-01,\n",
       "          6.24358654e-04,  2.41847128e-01,  1.40337795e-01,\n",
       "          3.39800030e-01, -4.23558950e-02,  1.23171538e-01,\n",
       "         -8.00206065e-02, -8.37153196e-03, -2.87229002e-01,\n",
       "          2.57205039e-01,  5.69849908e-02],\n",
       "        [ 2.55898386e-01,  3.72428894e-02, -8.93043578e-02,\n",
       "          7.01259375e-02,  3.46991807e-01, -1.44139022e-01,\n",
       "          3.50013375e-03,  3.50498408e-01,  3.25081617e-01,\n",
       "          1.09737664e-01,  2.09876150e-01,  4.65480685e-02,\n",
       "         -2.59623051e-01,  3.09937268e-01,  4.32832241e-02,\n",
       "         -1.63070366e-01, -1.92470074e-01, -1.07233301e-01,\n",
       "         -1.31981671e-01, -1.96800232e-01, -3.11498672e-01,\n",
       "          1.67538613e-01, -1.50525525e-01,  2.00913876e-01,\n",
       "          3.12146217e-01, -1.50102675e-02,  1.66428059e-01,\n",
       "          2.32122511e-01, -2.44181722e-01,  1.94867224e-01,\n",
       "          1.62523389e-02, -1.54962242e-01],\n",
       "        [-1.74758792e-01, -2.73492068e-01, -1.58310890e-01,\n",
       "         -1.69814125e-01,  3.04777831e-01,  5.87704182e-02,\n",
       "         -1.45629913e-01, -1.12009287e-01, -3.31187725e-01,\n",
       "         -3.50471258e-01,  2.86789685e-01,  6.60896301e-03,\n",
       "         -2.72159129e-01, -2.39691824e-01,  1.51164383e-01,\n",
       "         -8.11616778e-02, -2.88156748e-01, -1.87600419e-01,\n",
       "          1.57681137e-01, -1.74428180e-01,  2.36391038e-01,\n",
       "         -2.57586360e-01, -1.23020321e-01, -3.12802106e-01,\n",
       "          1.55308336e-01,  1.07748657e-01, -1.10763773e-01,\n",
       "          6.81854188e-02,  1.17848754e-01, -2.85854995e-01,\n",
       "          2.46273965e-01,  2.28563458e-01],\n",
       "        [ 1.83601052e-01, -1.71440646e-01,  2.36161351e-02,\n",
       "          2.25366682e-01, -3.88184190e-02, -2.49756902e-01,\n",
       "         -2.89448291e-01,  1.44581825e-01,  1.28324509e-01,\n",
       "         -1.53121606e-01,  1.94486678e-02, -1.03546381e-02,\n",
       "         -2.20730633e-01,  2.44355291e-01, -1.20352596e-01,\n",
       "         -2.56578535e-01, -1.44464076e-02,  1.78060800e-01,\n",
       "         -1.29830837e-01, -2.30038419e-01, -6.08515739e-03,\n",
       "          2.01974183e-01, -2.67020941e-01,  1.03064120e-01,\n",
       "          7.37246275e-02,  9.87589061e-02, -2.83580005e-01,\n",
       "         -3.62136662e-02, -2.69054174e-01, -1.52766138e-01,\n",
       "          3.12199920e-01,  3.28378588e-01],\n",
       "        [ 2.44115978e-01, -2.04239741e-01,  3.12855393e-01,\n",
       "         -7.17031658e-02, -3.43257070e-01,  1.04539007e-01,\n",
       "          1.06720299e-01, -2.73808002e-01,  2.23910838e-01,\n",
       "          1.55983537e-01,  3.10029656e-01, -5.01751602e-02,\n",
       "         -1.00032747e-01, -7.58248866e-02, -3.14552367e-01,\n",
       "         -1.22637883e-01,  3.37782294e-01,  1.10115796e-01,\n",
       "          2.19905168e-01, -1.34756371e-01, -1.17127180e-01,\n",
       "          3.93484533e-02,  6.08909130e-02,  1.86364919e-01,\n",
       "         -3.36263478e-01,  2.70639986e-01, -6.95707798e-02,\n",
       "         -9.72760320e-02,  2.36747116e-01, -2.07702875e-01,\n",
       "         -1.15825772e-01, -1.48619473e-01],\n",
       "        [ 7.62753487e-02, -2.11984232e-01, -3.34268749e-01,\n",
       "         -5.25682569e-02, -1.08480453e-04, -3.39760482e-01,\n",
       "         -2.89241076e-02,  1.33287221e-01, -1.43505886e-01,\n",
       "         -2.45612860e-01,  2.03143448e-01,  1.37593269e-01,\n",
       "          2.96375006e-01, -1.59076452e-02,  3.37982208e-01,\n",
       "          2.35853404e-01, -2.69975603e-01,  2.69696444e-01,\n",
       "          1.24417752e-01,  2.01107293e-01, -1.63401976e-01,\n",
       "          3.50638032e-02, -2.06221581e-01, -1.58305243e-01,\n",
       "         -4.88087535e-02,  7.10886717e-02,  1.71626210e-02,\n",
       "          8.31849873e-02,  1.27817899e-01,  3.23810130e-01,\n",
       "          1.59735233e-01, -2.67125040e-01],\n",
       "        [ 4.31008041e-02,  2.18376666e-01, -2.86346376e-01,\n",
       "          2.45628208e-01, -3.25928330e-01, -2.80223936e-01,\n",
       "          2.01200932e-01,  9.22864377e-02,  1.62747115e-01,\n",
       "         -2.85234511e-01, -2.95504332e-02, -1.20800361e-01,\n",
       "         -2.24124044e-01,  2.34473437e-01, -2.29684472e-01,\n",
       "         -1.69189751e-01, -1.93545833e-01,  3.42586547e-01,\n",
       "         -1.72844648e-01,  2.03359872e-01, -2.75024205e-01,\n",
       "         -1.71577886e-01, -3.41398567e-01, -1.46212220e-01,\n",
       "         -2.52918690e-01, -5.40186763e-02, -3.40137452e-01,\n",
       "          3.14498842e-02, -8.67597163e-02,  2.89070159e-01,\n",
       "         -9.49997604e-02, -3.26044738e-01],\n",
       "        [ 1.68471664e-01,  3.69216502e-02,  2.69942909e-01,\n",
       "          8.60433877e-02, -2.97853112e-01, -3.21790010e-01,\n",
       "          3.22903991e-02,  1.13520026e-02, -2.89189398e-01,\n",
       "         -2.10350364e-01,  2.78531998e-01, -3.18448007e-01,\n",
       "          3.70034277e-02, -1.87163785e-01,  6.00311160e-02,\n",
       "         -2.73611516e-01, -2.17580736e-01, -2.25630283e-01,\n",
       "         -3.44953537e-02, -5.97922206e-02,  6.37888312e-02,\n",
       "          1.91207618e-01, -2.05816716e-01,  2.68415123e-01,\n",
       "         -2.28442490e-01,  6.34949803e-02, -5.32193184e-02,\n",
       "         -1.14377603e-01,  2.42701858e-01, -1.84958413e-01,\n",
       "         -1.21699870e-01, -4.58298922e-02],\n",
       "        [ 1.86078399e-01, -2.43447721e-02, -1.88355520e-01,\n",
       "         -1.77931428e-01, -3.00097466e-02,  2.95439631e-01,\n",
       "         -1.65621355e-01, -1.25726148e-01, -3.15901846e-01,\n",
       "         -2.67308712e-01, -1.42510295e-01, -1.91190243e-01,\n",
       "          1.37849092e-01,  1.29347235e-01, -2.91016728e-01,\n",
       "         -1.78668067e-01,  2.36076027e-01, -2.18432531e-01,\n",
       "          1.42930567e-01,  1.55013472e-01,  3.40855986e-01,\n",
       "          2.18134552e-01, -1.29592195e-01,  5.32471538e-02,\n",
       "          6.02497756e-02,  3.39631706e-01,  2.50973403e-02,\n",
       "         -7.53229856e-02, -3.47944915e-01, -3.28589976e-01,\n",
       "          3.43081921e-01,  4.47890460e-02],\n",
       "        [-6.03094697e-03, -2.78826177e-01,  3.52666050e-01,\n",
       "          2.14052647e-01, -2.51613736e-01,  1.05025232e-01,\n",
       "          2.58328587e-01,  3.05136591e-01, -1.83355898e-01,\n",
       "         -2.04178214e-01, -2.55679965e-01, -2.46643007e-01,\n",
       "          2.82311827e-01, -1.43017575e-01, -2.47968435e-02,\n",
       "          2.41682500e-01,  2.94811457e-01, -3.09807748e-01,\n",
       "         -5.57923913e-02, -1.57522261e-02,  1.41447276e-01,\n",
       "          2.34757096e-01, -2.63716042e-01,  3.01112920e-01,\n",
       "          8.58340859e-02,  8.67227912e-02,  3.47526073e-02,\n",
       "          3.47116560e-01,  1.90923363e-01, -2.84990400e-01,\n",
       "          2.36477524e-01, -1.80480227e-01],\n",
       "        [-1.11223757e-01, -1.74676344e-01,  3.51738006e-01,\n",
       "          3.21704894e-01, -2.75610626e-01, -2.05657899e-01,\n",
       "         -9.11082625e-02, -9.01804268e-02, -2.61803567e-01,\n",
       "          1.86028332e-01,  2.11879224e-01,  1.71133071e-01,\n",
       "          1.13781393e-01,  2.06609517e-01, -8.80869031e-02,\n",
       "          2.54862398e-01,  1.95137471e-01,  2.97586530e-01,\n",
       "         -1.74211800e-01, -1.56503126e-01,  3.00665826e-01,\n",
       "         -1.04624823e-01,  1.99976534e-01, -1.42235830e-01,\n",
       "          3.51625383e-02,  1.20407134e-01, -3.02174866e-01,\n",
       "          2.31657594e-01,  8.62258673e-02, -1.56495214e-01,\n",
       "         -3.00371647e-03, -3.19734752e-01],\n",
       "        [-2.44069368e-01,  9.81542766e-02, -1.59016266e-01,\n",
       "          2.65751183e-02,  3.02113742e-01,  2.17785090e-01,\n",
       "          9.85247493e-02, -1.46822765e-01, -1.09800547e-01,\n",
       "         -1.50414675e-01,  2.42902666e-01,  1.79914027e-01,\n",
       "          2.62203723e-01,  1.36813462e-01, -1.95735022e-01,\n",
       "         -6.00552857e-02, -1.60071120e-01,  3.51562530e-01,\n",
       "          2.49110967e-01,  4.24582362e-02, -2.28207052e-01,\n",
       "          1.38601929e-01,  2.51311809e-01, -1.10230535e-01,\n",
       "          1.79133445e-01,  1.77070796e-02, -1.17305726e-01,\n",
       "          2.16789037e-01,  1.21627033e-01,  2.82337934e-01,\n",
       "         -1.48450047e-01,  2.58512646e-01],\n",
       "        [-7.08637834e-02, -1.32477820e-01, -9.27477777e-02,\n",
       "         -9.77605283e-02, -3.05818111e-01,  7.60025680e-02,\n",
       "         -1.92777991e-01, -3.03958863e-01,  2.28191644e-01,\n",
       "         -1.32798821e-01,  2.91758031e-01, -3.28504592e-01,\n",
       "          3.05451959e-01, -2.67635852e-01, -1.86842084e-02,\n",
       "         -7.21875131e-02, -3.04678142e-01,  1.00484163e-01,\n",
       "          2.33931631e-01, -2.31500581e-01,  1.78333193e-01,\n",
       "          2.61982590e-01,  3.06076497e-01, -2.76380479e-01,\n",
       "         -8.02600682e-02, -2.71502584e-01,  3.00425321e-01,\n",
       "         -2.82090873e-01, -2.06649289e-01, -3.25692803e-01,\n",
       "         -1.93104714e-01,  3.06671411e-01],\n",
       "        [ 1.90976888e-01,  2.91144043e-01, -2.29662478e-01,\n",
       "          9.99974310e-02, -2.61635840e-01,  5.02313673e-02,\n",
       "         -1.41713634e-01,  2.62881130e-01, -3.67220342e-02,\n",
       "         -3.02793324e-01, -2.07299441e-01, -2.52423465e-01,\n",
       "         -2.61851043e-01, -2.00359285e-01,  1.49467081e-01,\n",
       "         -1.50079131e-02, -3.44339013e-03,  2.80267298e-02,\n",
       "         -2.10173517e-01, -4.12493646e-02,  2.42342860e-01,\n",
       "          1.41027302e-01,  3.37131113e-01,  3.10113698e-01,\n",
       "          2.10999578e-01,  1.91825539e-01,  1.33464396e-01,\n",
       "         -2.77463913e-01,  6.47249222e-02,  9.24012363e-02,\n",
       "         -1.35093123e-01, -4.83169854e-02]], dtype=float32),\n",
       " array([0., 0., 0., 0., 0., 0., 0., 0., 0., 0., 0., 0., 0., 0., 0., 0., 0.,\n",
       "        0., 0., 0., 0., 0., 0., 0., 0., 0., 0., 0., 0., 0., 0., 0.],\n",
       "       dtype=float32),\n",
       " array([[-0.01430637, -0.34927776],\n",
       "        [ 0.33398566,  0.24215981],\n",
       "        [ 0.11713287,  0.06952187],\n",
       "        [ 0.2016308 ,  0.16401902],\n",
       "        [-0.23504522, -0.05533999],\n",
       "        [-0.20734602, -0.01652652],\n",
       "        [ 0.20432433,  0.02411953],\n",
       "        [-0.40082467,  0.35281637],\n",
       "        [-0.25089428, -0.12584412],\n",
       "        [ 0.06512955,  0.41329047],\n",
       "        [-0.12617141,  0.3860022 ],\n",
       "        [-0.10174662, -0.15796238],\n",
       "        [-0.06177911, -0.12881112],\n",
       "        [ 0.2968482 ,  0.1741015 ],\n",
       "        [-0.10322291,  0.11466572],\n",
       "        [-0.10754764,  0.22677705],\n",
       "        [ 0.14734706,  0.18963715],\n",
       "        [ 0.31068203, -0.19868845],\n",
       "        [ 0.24295512, -0.16617346],\n",
       "        [ 0.09525213, -0.35711986],\n",
       "        [ 0.36082193, -0.14178601],\n",
       "        [ 0.28599057,  0.28273544],\n",
       "        [ 0.15644273,  0.09397539],\n",
       "        [-0.07405111,  0.36966679],\n",
       "        [-0.14161164,  0.15427163],\n",
       "        [-0.40459734, -0.37504935],\n",
       "        [-0.24535896,  0.35570976],\n",
       "        [-0.19887725,  0.11898324],\n",
       "        [ 0.28698632,  0.1378468 ],\n",
       "        [-0.28726116, -0.37915394],\n",
       "        [ 0.40052107, -0.17621759],\n",
       "        [-0.01977769,  0.2719322 ]], dtype=float32),\n",
       " array([0., 0.], dtype=float32)]"
      ]
     },
     "execution_count": 34,
     "metadata": {},
     "output_type": "execute_result"
    }
   ],
   "source": [
    "model2 = Sequential([Dense(units = 16,input_shape=(1,),activation='relu'),\n",
    "                    Dense(units = 32 , activation = 'relu'),\n",
    "                    Dense(units = 2  , activation = 'softmax')])\n",
    "model2.get_weights()"
   ]
  },
  {
   "cell_type": "markdown",
   "metadata": {},
   "source": [
    "**We can surely see that before loading weights we just had only randomly initialized weights**"
   ]
  },
  {
   "cell_type": "code",
   "execution_count": 35,
   "metadata": {},
   "outputs": [],
   "source": [
    "model2.load_weights('models\\sample_model_weights.h5')"
   ]
  },
  {
   "cell_type": "code",
   "execution_count": 36,
   "metadata": {},
   "outputs": [
    {
     "data": {
      "text/plain": [
       "[array([[-0.34687272,  0.30845928, -0.3969993 , -0.55214304, -0.254238  ,\n",
       "         -0.01571646, -0.12906495, -0.4995945 ,  0.7594511 , -0.06320071,\n",
       "          0.05709985, -0.3574348 ,  0.4437953 , -0.08498788,  0.6748649 ,\n",
       "          0.7137057 ]], dtype=float32),\n",
       " array([ 0.        , -0.12202524,  0.        ,  0.        ,  0.        ,\n",
       "         0.21410346,  0.        ,  0.        , -0.16646951,  0.        ,\n",
       "         0.28890216,  0.        , -0.15318805,  0.        , -0.10981902,\n",
       "        -0.1851406 ], dtype=float32),\n",
       " array([[-0.06673953, -0.20418209,  0.18660524, -0.32157195, -0.33403307,\n",
       "          0.14769772,  0.02868193,  0.05865443,  0.20736596, -0.01938435,\n",
       "          0.25312182,  0.1835449 ,  0.03315306, -0.31128523,  0.06927812,\n",
       "         -0.07678843, -0.2784091 ,  0.22742185,  0.33352336, -0.17648984,\n",
       "          0.27509937,  0.29734626,  0.32465997, -0.20539221,  0.04949102,\n",
       "          0.30281046, -0.10646319,  0.30252913,  0.12003455,  0.19411305,\n",
       "         -0.2651546 , -0.2784171 ],\n",
       "        [ 0.10794823, -0.07307152,  0.32996067, -0.00691047,  0.0239563 ,\n",
       "          0.21240029, -0.33758244, -0.00347922, -0.5284411 ,  0.12073579,\n",
       "          0.26205817,  0.05341446,  0.46536452, -0.5445754 , -0.1457796 ,\n",
       "          0.14417468,  0.24870959,  0.12106677,  0.17981449,  0.06685233,\n",
       "          0.6654134 ,  0.27580324,  0.12691167, -0.03037241, -0.06930816,\n",
       "          0.43888852, -0.31988505, -0.2730879 , -0.08571015,  0.625849  ,\n",
       "          0.41406348,  0.17815772],\n",
       "        [-0.18686639,  0.10060596, -0.12597878, -0.20580482, -0.12723215,\n",
       "         -0.2077064 , -0.14437336, -0.30293703,  0.2965426 ,  0.21355596,\n",
       "         -0.20880021, -0.07769367,  0.04130223, -0.01764622, -0.09511903,\n",
       "          0.28301153,  0.19387475,  0.24992701,  0.08593541, -0.32737294,\n",
       "          0.04971239,  0.17277041, -0.00372434, -0.14561711, -0.25933522,\n",
       "          0.22453651, -0.14460061,  0.03467092,  0.251456  ,  0.14063948,\n",
       "          0.15234587,  0.03658497],\n",
       "        [-0.23247325,  0.10002232, -0.08635652,  0.15056399, -0.04133031,\n",
       "          0.24415377, -0.19741566,  0.06896818, -0.18035184,  0.17560652,\n",
       "          0.10347539,  0.13579327, -0.11789747, -0.32866162, -0.13261414,\n",
       "          0.16168937, -0.22020987,  0.3495812 , -0.14516193,  0.3422095 ,\n",
       "         -0.11920005,  0.137898  ,  0.29417655,  0.10108727, -0.07303053,\n",
       "         -0.07064402,  0.32618734, -0.03462043, -0.18728104, -0.04930255,\n",
       "         -0.19023511,  0.01305616],\n",
       "        [-0.17736675,  0.05662596, -0.06496674, -0.05038419,  0.08530456,\n",
       "          0.0658102 , -0.12085365, -0.20260824, -0.24003828,  0.1383858 ,\n",
       "          0.19806972,  0.3364701 , -0.0010643 , -0.03798711,  0.16906658,\n",
       "         -0.11077203, -0.06697911, -0.17519955,  0.14225692, -0.11563325,\n",
       "          0.12444749,  0.11817309, -0.08021539,  0.1651763 ,  0.23899886,\n",
       "          0.33022138, -0.29958308, -0.135594  , -0.2227654 , -0.34544224,\n",
       "          0.04624277,  0.0412336 ],\n",
       "        [-0.07580008,  0.38392398, -0.01286128, -0.02566438, -0.05353585,\n",
       "          0.16092715, -0.16251032,  0.21564336,  0.18805762,  0.17137301,\n",
       "         -0.1169699 , -0.25644717,  0.25225508,  0.31817883,  0.17564847,\n",
       "         -0.32169643,  0.06550743,  0.18753335,  0.15103164,  0.16655716,\n",
       "          0.25141257, -0.22153534, -0.30179352, -0.2919298 ,  0.27377006,\n",
       "          0.14602934, -0.00303921, -0.27220312,  0.55242306,  0.3109648 ,\n",
       "         -0.19901447, -0.24876317],\n",
       "        [-0.34615114, -0.2801109 ,  0.13637784,  0.32156578,  0.3233542 ,\n",
       "         -0.18222813,  0.20312563, -0.12913752,  0.1171298 ,  0.03021228,\n",
       "         -0.20775177,  0.24613556,  0.16465381,  0.21464732,  0.04213244,\n",
       "         -0.15465862, -0.21618341,  0.186393  ,  0.2671965 , -0.24855986,\n",
       "         -0.03881094,  0.19768754, -0.30480433,  0.22034809, -0.2781815 ,\n",
       "          0.35038713,  0.10375476,  0.10912308, -0.17659496, -0.03320995,\n",
       "         -0.20131753, -0.17074446],\n",
       "        [-0.20248644,  0.13254485, -0.28858906, -0.02761748, -0.18650562,\n",
       "          0.34802702,  0.07289535,  0.21039996,  0.21278241,  0.11642924,\n",
       "         -0.22141653, -0.07929894,  0.08308223, -0.07928321, -0.12217182,\n",
       "          0.03278771, -0.19401695,  0.2505007 , -0.1567035 , -0.2701344 ,\n",
       "          0.00896734,  0.10204315,  0.1712412 , -0.24779591,  0.10319772,\n",
       "         -0.2139288 ,  0.302686  , -0.1368315 ,  0.09551284, -0.01345992,\n",
       "         -0.07558018, -0.34930843],\n",
       "        [-0.0205028 , -0.58510095, -0.2156092 ,  0.01133797,  0.1371507 ,\n",
       "          0.54705995, -0.15051264,  0.3860852 , -0.42993024,  0.07788195,\n",
       "         -0.2732392 , -0.06103583,  0.39319372, -0.42754757, -0.21222112,\n",
       "          0.33717707, -0.07232833,  0.32287166, -0.00734341,  0.4172029 ,\n",
       "          0.07195485,  0.04150389,  0.54838777,  0.2596641 , -0.24785237,\n",
       "          0.39012432, -0.17722547, -0.1234346 , -0.21485981,  0.2953239 ,\n",
       "          0.3685981 , -0.12076617],\n",
       "        [-0.19599995, -0.289064  , -0.23875776, -0.11182435, -0.27810025,\n",
       "          0.15549138, -0.18462528, -0.0887455 , -0.09281605, -0.17775004,\n",
       "         -0.01496279, -0.06424916, -0.30974343,  0.2831501 ,  0.11225593,\n",
       "         -0.14228709,  0.24178949,  0.1136097 ,  0.03869012, -0.22327167,\n",
       "          0.03025588,  0.3026549 ,  0.13801879,  0.16434625, -0.34447142,\n",
       "          0.3478062 ,  0.02175164,  0.20157042,  0.23603514, -0.22246987,\n",
       "         -0.34162146,  0.33741114],\n",
       "        [ 0.08603473,  0.33955404, -0.22667055,  0.0448778 ,  0.21720947,\n",
       "          0.00966458,  0.09301102,  0.07656465,  0.4250369 , -0.34730753,\n",
       "         -0.2948816 ,  0.23763853, -0.20432992,  0.36507675,  0.4777283 ,\n",
       "          0.32795504, -0.02841776, -0.26618803, -0.31620917, -0.09093116,\n",
       "          0.20724441,  0.18576546,  0.06659552, -0.33951968,  0.2925619 ,\n",
       "         -0.00941318, -0.12302133,  0.22059682,  0.536931  ,  0.11254665,\n",
       "          0.337652  , -0.22830468],\n",
       "        [-0.1961806 , -0.3342546 ,  0.13529778,  0.34647897, -0.10305521,\n",
       "          0.15298244, -0.23396507,  0.15444204, -0.22664374,  0.3105153 ,\n",
       "         -0.28424138, -0.09699321,  0.130568  ,  0.12867162,  0.33873615,\n",
       "         -0.20555447,  0.089324  ,  0.2930725 , -0.30887774,  0.17472634,\n",
       "          0.11402637, -0.20823678,  0.04067945,  0.18480828,  0.22703573,\n",
       "          0.1826078 ,  0.30615088,  0.01511943, -0.04489601,  0.14314318,\n",
       "         -0.2999281 , -0.29872733],\n",
       "        [ 0.5485804 , -0.35750362,  0.02602795,  0.326873  , -0.24300705,\n",
       "          0.01755428,  0.07433152,  0.10147855, -0.4310687 , -0.2110484 ,\n",
       "         -0.22485739,  0.27651295,  0.13938558, -0.49248636, -0.5013152 ,\n",
       "          0.29974592,  0.1212125 ,  0.66099596, -0.24383646,  0.42646238,\n",
       "          0.6160133 ,  0.2138374 ,  0.35604286, -0.20832942, -0.08912183,\n",
       "         -0.15192227, -0.12428549, -0.29175675, -0.56214213,  0.3504184 ,\n",
       "          0.3493618 , -0.17296202],\n",
       "        [-0.02491763,  0.30972013, -0.2467687 ,  0.13793162,  0.08274984,\n",
       "         -0.31857866, -0.03522396, -0.286387  , -0.27719265, -0.0977886 ,\n",
       "         -0.2637461 , -0.31202853, -0.14162925,  0.2528359 ,  0.30267736,\n",
       "         -0.26277083,  0.08604541,  0.00443873,  0.18054655, -0.35223538,\n",
       "         -0.15368721, -0.35294688,  0.27400854,  0.01681837,  0.07505697,\n",
       "          0.04754087,  0.2544422 , -0.03239939,  0.21214303, -0.08925927,\n",
       "         -0.08645085, -0.1125835 ],\n",
       "        [ 0.5512832 ,  0.07521552, -0.32255   , -0.23591177, -0.3128949 ,\n",
       "          0.00375556, -0.19439003,  0.24276279,  0.05225899,  0.3414108 ,\n",
       "          0.00993189, -0.09267589,  0.35881203, -0.04326604, -0.27222034,\n",
       "          0.08133066,  0.17859317,  0.41788647, -0.34905884,  0.16023013,\n",
       "          0.42002654, -0.07633421,  0.34368905, -0.30398643, -0.49212322,\n",
       "          0.10571922,  0.07493609,  0.04049267, -0.30626923,  0.2165849 ,\n",
       "          0.20776908, -0.18142189],\n",
       "        [ 0.4100803 , -0.30322936, -0.22548766, -0.3241547 ,  0.11332695,\n",
       "          0.26133004, -0.27445048,  0.45450917, -0.36117315, -0.29852754,\n",
       "         -0.2510214 , -0.03724761,  0.18655646, -0.12117611, -0.39052874,\n",
       "          0.25434428, -0.28353173,  0.17831372, -0.34814864,  0.45550826,\n",
       "          0.06311408, -0.1829193 , -0.00707788,  0.01456343, -0.24556643,\n",
       "          0.23871532, -0.07979661, -0.2567897 , -0.49229875,  0.25718415,\n",
       "          0.16635345,  0.01570027]], dtype=float32),\n",
       " array([-0.14524014,  0.19174466,  0.        , -0.00815136,  0.13300882,\n",
       "        -0.13062124,  0.        , -0.1613822 ,  0.24138772, -0.00225657,\n",
       "         0.        , -0.01666736, -0.12353579,  0.19274257,  0.24865818,\n",
       "        -0.1261724 , -0.01620655, -0.10448875,  0.        , -0.12177088,\n",
       "        -0.19613607, -0.02042433, -0.0993641 , -0.00062417,  0.23709491,\n",
       "        -0.12471776,  0.        , -0.01356323,  0.23713592, -0.18371557,\n",
       "        -0.15897132,  0.00492771], dtype=float32),\n",
       " array([[-0.66076404, -0.05122764],\n",
       "        [ 0.6453599 , -0.43856186],\n",
       "        [ 0.12978813,  0.17378381],\n",
       "        [-0.37999478, -0.16767389],\n",
       "        [ 0.26152778, -0.1512375 ],\n",
       "        [-0.53100693,  0.2037736 ],\n",
       "        [ 0.18228605,  0.10819295],\n",
       "        [-0.12764381,  0.44239017],\n",
       "        [ 0.56665915, -0.7079589 ],\n",
       "        [-0.13666022, -0.19008207],\n",
       "        [ 0.0669719 ,  0.05615318],\n",
       "        [-0.23216039, -0.1145964 ],\n",
       "        [-0.22185628,  0.402345  ],\n",
       "        [ 0.82464296, -0.63161725],\n",
       "        [ 0.67975634, -0.4722585 ],\n",
       "        [-0.4172129 ,  0.6846155 ],\n",
       "        [-0.30733863, -0.12824354],\n",
       "        [-0.6647157 , -0.0195907 ],\n",
       "        [-0.0650433 ,  0.22575524],\n",
       "        [-0.47301474,  0.44016287],\n",
       "        [-0.03943575,  0.5154028 ],\n",
       "        [-0.04298825, -0.3927365 ],\n",
       "        [-0.4756402 ,  0.6547502 ],\n",
       "        [-0.07922454,  0.27041984],\n",
       "        [ 0.71741664, -0.18240961],\n",
       "        [-0.07206012,  0.20913151],\n",
       "        [ 0.068385  , -0.25403306],\n",
       "        [-0.34111702,  0.00565522],\n",
       "        [ 0.15845504, -0.73160017],\n",
       "        [-0.42153355,  0.10741675],\n",
       "        [-0.05544755,  0.59780514],\n",
       "        [ 0.39705813,  0.07575122]], dtype=float32),\n",
       " array([ 0.13910142, -0.13910146], dtype=float32)]"
      ]
     },
     "execution_count": 36,
     "metadata": {},
     "output_type": "execute_result"
    }
   ],
   "source": [
    "model2.get_weights()"
   ]
  },
  {
   "cell_type": "code",
   "execution_count": 37,
   "metadata": {},
   "outputs": [
    {
     "name": "stdout",
     "output_type": "stream",
     "text": [
      "Model: \"sequential_2\"\n",
      "_________________________________________________________________\n",
      "Layer (type)                 Output Shape              Param #   \n",
      "=================================================================\n",
      "dense_4 (Dense)              (None, 16)                32        \n",
      "_________________________________________________________________\n",
      "dense_5 (Dense)              (None, 32)                544       \n",
      "_________________________________________________________________\n",
      "dense_6 (Dense)              (None, 2)                 66        \n",
      "=================================================================\n",
      "Total params: 642\n",
      "Trainable params: 642\n",
      "Non-trainable params: 0\n",
      "_________________________________________________________________\n"
     ]
    }
   ],
   "source": [
    "model2.summary()"
   ]
  }
 ],
 "metadata": {
  "kernelspec": {
   "display_name": "Python 3",
   "language": "python",
   "name": "python3"
  },
  "language_info": {
   "codemirror_mode": {
    "name": "ipython",
    "version": 3
   },
   "file_extension": ".py",
   "mimetype": "text/x-python",
   "name": "python",
   "nbconvert_exporter": "python",
   "pygments_lexer": "ipython3",
   "version": "3.7.3"
  }
 },
 "nbformat": 4,
 "nbformat_minor": 4
}
